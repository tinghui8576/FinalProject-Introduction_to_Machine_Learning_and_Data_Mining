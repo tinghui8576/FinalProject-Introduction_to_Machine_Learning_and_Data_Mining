{
  "cells": [
    {
      "cell_type": "code",
      "execution_count": 102,
      "metadata": {
        "id": "QQfEbH6EiGTu"
      },
      "outputs": [],
      "source": [
        "import numpy as np\n",
        "import pandas as pd\n",
        "import matplotlib.pyplot as plt\n",
        "from scipy.linalg import svd\n",
        "from sklearn.preprocessing import LabelEncoder,  StandardScaler\n",
        "from matplotlib.pyplot import (figure, plot, title, xlabel, ylabel, \n",
        "                               colorbar, imshow, xticks, yticks, show)\n",
        "\n",
        "from toolbox_02450 import train_neural_net, draw_neural_net, visualize_decision_boundary, rlr_validate\n",
        "import numpy as np\n",
        "\n",
        "import numpy as np\n",
        "from sklearn.model_selection import KFold\n",
        "from sklearn.linear_model import Ridge\n",
        "from sklearn.metrics import mean_squared_error\n",
        "import torch\n",
        "import time\n"
      ]
    },
    {
      "cell_type": "markdown",
      "metadata": {
        "id": "l89XFFDBygRq"
      },
      "source": [
        "## Import file"
      ]
    },
    {
      "cell_type": "code",
      "execution_count": 88,
      "metadata": {
        "id": "pq9fI0lSPxT6"
      },
      "outputs": [],
      "source": [
        "def load():# Load the heart csv data using the Pandas library\n",
        "    filename = 'heart.csv'\n",
        "    df = pd.read_csv(filename)\n",
        "    return df\n"
      ]
    },
    {
      "cell_type": "code",
      "execution_count": 89,
      "metadata": {},
      "outputs": [],
      "source": [
        "def outlier_removal(df):\n",
        "   # Select columns 1 to 18\n",
        "   selected_columns = df.iloc[:, 0:18]\n",
        "   # Calculate basic summary statistics\n",
        "   summary_statistics = selected_columns.describe()\n",
        "\n",
        "   # Drop the data set to remove outlier\n",
        "   df = df.drop(df[(df.BMI > summary_statistics.BMI['mean']+2*summary_statistics.BMI['std'])\n",
        "            & (df.BMI < summary_statistics.BMI['mean']-2*summary_statistics.BMI['std'])\n",
        "            & (df.PhysicalHealth > summary_statistics.PhysicalHealth['mean']+2*summary_statistics.PhysicalHealth['std'])\n",
        "            & (df.PhysicalHealth < summary_statistics.PhysicalHealth['mean']-2*summary_statistics.PhysicalHealth['std'])\n",
        "            & (df.MentalHealth > summary_statistics.MentalHealth['mean']+2*summary_statistics.MentalHealth['std'])\n",
        "            & (df.MentalHealth < summary_statistics.MentalHealth['mean']-2*summary_statistics.MentalHealth['std'])\n",
        "            & (df.SleepTime > summary_statistics.SleepTime['mean']+2*summary_statistics.SleepTime['std'])\n",
        "            & (df.SleepTime < summary_statistics.SleepTime['mean']-2*summary_statistics.SleepTime['std'])].index)\n",
        "   \n",
        "   \n",
        "   return df "
      ]
    },
    {
      "cell_type": "code",
      "execution_count": 90,
      "metadata": {},
      "outputs": [],
      "source": [
        "def balanced(df):\n",
        "    # Balance the data\n",
        "    # Count the number of 'yes' and 'no' values in the 'label' column\n",
        "    yes_count = df['HeartDisease'].value_counts()['Yes']\n",
        "    no_count = df['HeartDisease'].value_counts()['No']\n",
        "\n",
        "    # Determine the label to balance (either 'yes' or 'no')\n",
        "    label_to_balance = 'Yes' if yes_count > no_count else 'No'\n",
        "    label_to_keep = 'Yes' if yes_count <= no_count else 'No'\n",
        "\n",
        "    #remove after\n",
        "    #columns_to_random = df[df['HeartDisease'] == label_to_keep].sample(n=100, random_state=42)\n",
        "    \n",
        "    # Calculate the difference in counts\n",
        "    count_diff = yes_count \n",
        "    #count_diff = 100\n",
        "    # Get the columns where the label is equal to label_to_balance\n",
        "    columns_to_balance = df[df['HeartDisease'] == label_to_balance]\n",
        "\n",
        "    # Randomly sample rows to make the counts equal\n",
        "    sampled_rows = columns_to_balance.sample(n=count_diff, random_state=42)\n",
        "    \n",
        "    \n",
        "\n",
        "    \n",
        "    # Concatenate the sampled rows with the rows where the label is equal to label_to_keep\n",
        "    balance = pd.concat([df[df['HeartDisease'] == label_to_keep], sampled_rows])\n",
        "    #balance  = pd.concat([columns_to_random, sampled_rows])\n",
        "\n",
        "    # Shuffle the rows to randomize the order\n",
        "    balance = balance.sample(frac=1, random_state=42)\n",
        "\n",
        "    df = balance \n",
        "    return df"
      ]
    },
    {
      "cell_type": "code",
      "execution_count": 72,
      "metadata": {},
      "outputs": [],
      "source": [
        "def encode(df):\n",
        "    # Transforme the discrete string into integer\n",
        "    encoder = LabelEncoder()\n",
        "    for col in df:\n",
        "        if col != \"BMI\":\n",
        "            df[col] = encoder.fit_transform(df[col])\n",
        "    return df"
      ]
    },
    {
      "cell_type": "code",
      "execution_count": 73,
      "metadata": {},
      "outputs": [],
      "source": [
        "def data_preprocess():\n",
        "    df = load()\n",
        "    df = outlier_removal(df)\n",
        "    df = balanced(df)\n",
        "    df = encode(df)\n",
        "    return df"
      ]
    },
    {
      "cell_type": "code",
      "execution_count": 91,
      "metadata": {},
      "outputs": [
        {
          "name": "stdout",
          "output_type": "stream",
          "text": [
            "54746\n"
          ]
        }
      ],
      "source": [
        "df = data_preprocess()\n",
        "print(len(df['HeartDisease']))"
      ]
    },
    {
      "cell_type": "code",
      "execution_count": 92,
      "metadata": {},
      "outputs": [],
      "source": [
        "# Extract the data matrix, the class label and attribute names from the csv\n",
        "raw_data = df.values\n",
        "\n",
        "Data = raw_data[:,1:]\n",
        "Label = df.values [:,0]\n",
        "Attributes = np.asarray(df.columns[1:].str.slice(0, 3))"
      ]
    },
    {
      "cell_type": "code",
      "execution_count": 76,
      "metadata": {},
      "outputs": [
        {
          "name": "stdout",
          "output_type": "stream",
          "text": [
            "1    50.0\n",
            "0    50.0\n",
            "Name: HeartDisease, dtype: float64\n"
          ]
        }
      ],
      "source": [
        "# Summary of Dataset in percentages\n",
        "print(df['HeartDisease'].value_counts(normalize=True) * 100)"
      ]
    },
    {
      "cell_type": "code",
      "execution_count": 93,
      "metadata": {},
      "outputs": [],
      "source": [
        "# Transform to mean of 0 and standard deviation of 1\n",
        "Data = Data/Data.std(axis=0)\n",
        "Data = Data - Data.mean(axis=0)"
      ]
    },
    {
      "cell_type": "code",
      "execution_count": 94,
      "metadata": {},
      "outputs": [],
      "source": [
        "# Assign each type of class with a number by making a Python dictionary\n",
        "# and extract the class vector y, convert to NumPy array\n",
        "classNames = np.unique(Label)\n",
        "classDict = dict(zip(classNames,range(len(classNames))))\n",
        "\n",
        "y = np.asarray([classDict[value] for value in Label])"
      ]
    },
    {
      "cell_type": "code",
      "execution_count": 95,
      "metadata": {},
      "outputs": [],
      "source": [
        "# Compute values of number of data(N), attributes(M) and classes(C).\n",
        "N = len(y)\n",
        "M = len(Attributes)\n",
        "C = len(classNames)"
      ]
    },
    {
      "cell_type": "markdown",
      "metadata": {},
      "source": [
        "# ANN"
      ]
    },
    {
      "cell_type": "code",
      "execution_count": 107,
      "metadata": {},
      "outputs": [],
      "source": [
        "# Define the hyperparameters grid to search\n",
        "param_grid = {\n",
        "    'hidden_units': [1, 5, 10 , 15, 20, 25, 30, 35], # number of hidden units\n",
        "    'lambdas': [ 0.0001, 0.001, 0.01, 0.1, 1.0, 10.0, 100, 1000, 10000],\n",
        "    'loss_fn': torch.nn.MSELoss(),\n",
        "    'max_iter': 10000,\n",
        "    'n_replicates': 3, # number of networks trained in each k-fold\n",
        "    'K_inner' : 10,\n",
        "    'K_outer' : 10\n",
        "} \n",
        "       \n",
        "\n",
        "# Define a function to create a Keras model with variable hidden units and regularization\n",
        "def create_model(hidden_units=4,  M=17):\n",
        "    model = lambda: torch.nn.Sequential(\n",
        "                    torch.nn.Linear(M, hidden_units), #M features to H hiden units\n",
        "                    # 1st transfer function, either Tanh or ReLU:\n",
        "                    torch.nn.Tanh(),                            #torch.nn.ReLU(),\n",
        "                    torch.nn.Linear(hidden_units, 1), # H hidden units to 1 output neuron\n",
        "                    torch.nn.Sigmoid() # final tranfer function\n",
        "                    )\n",
        "    return model"
      ]
    },
    {
      "cell_type": "code",
      "execution_count": 98,
      "metadata": {},
      "outputs": [],
      "source": [
        "def ridge_inner(X_train, X_test,y_train, y_test, col):\n",
        "    start = time.time()\n",
        "    w_rlr = np.empty((col))\n",
        "\n",
        "    # Add offset attribute\n",
        "    attributeNames = Attributes.tolist()\n",
        "    X_train = np.concatenate((np.ones((X_train.shape[0],1)),X_train),1)\n",
        "    X_test = np.concatenate((np.ones((X_test.shape[0],1)),X_test),1)\n",
        "    col = col+1\n",
        "    attributeNames = [u'Offset']+attributeNames\n",
        "\n",
        "\n",
        "    opt_val_err, opt_lambda, _, _,_ = rlr_validate(X_train, y_train, param_grid['lambdas'], param_grid['K_inner'])\n",
        "    \n",
        "    # Standardize outer fold based on training set, and save the mean and standard\n",
        "    # deviations since they're part of the model (they would be needed for\n",
        "    # making new predictions) - for brevity we won't always store these in the scripts\n",
        "    mu = np.mean(X_train[:, 1:], 0)\n",
        "    sigma = np.std(X_train[:, 1:], 0)\n",
        "    \n",
        "    X_train[:, 1:] = (X_train[:, 1:] - mu ) / sigma\n",
        "    X_test[:, 1:] = (X_test[:, 1:] - mu) / sigma\n",
        "    \n",
        "    Xty = X_train.T @ y_train\n",
        "    XtX = X_train.T @ X_train\n",
        "    \n",
        "    # Estimate weights for the optimal value of lambda, on entire training set\n",
        "    lambdaI = opt_lambda * np.eye(col)\n",
        "    lambdaI[0,0] = 0 # Do no regularize the bias term\n",
        "    w_rlr = np.empty((col))\n",
        "    w_rlr = np.linalg.solve(XtX+lambdaI,Xty).squeeze()\n",
        "    # Compute mean squared error with regularization with optimal lambda\n",
        "    Error_test = np.square(y_test-X_test @ w_rlr).sum(axis=0)/y_test.shape[0]\n",
        "    \n",
        "\n",
        "    # #To inspect the weights for each attributes in this model\n",
        "    # print('Weights in this fold:')\n",
        "    # for m in range(M):\n",
        "    #     print('{:>15} {:>15}'.format(attributeNames[m], np.round(w_rlr[m],2)))\n",
        "    \n",
        "    end = time.time()\n",
        "    return  opt_lambda, round(Error_test,4), end-start\n"
      ]
    },
    {
      "cell_type": "code",
      "execution_count": 99,
      "metadata": {},
      "outputs": [],
      "source": [
        "def no_feature(y_train, y_test):\n",
        "    start = time.time()\n",
        "    # Compute mean squared error without using the input data at all\n",
        "    print(y_test.mean())\n",
        "    Error_test = np.square(y_test-y_test.mean()).sum(axis=0)/y_test.shape[0]\n",
        "    end = time.time()\n",
        "    # print( Error_test)\n",
        "    return round(Error_test,4), end-start"
      ]
    },
    {
      "cell_type": "code",
      "execution_count": 100,
      "metadata": {},
      "outputs": [],
      "source": [
        "# Define a function to create a Keras model with variable hidden units and regularization\n",
        "def create_model(hidden_units=4,  M=17):\n",
        "    model = lambda: torch.nn.Sequential(\n",
        "                    torch.nn.Linear(M, hidden_units), #M features to H hiden units\n",
        "                    # 1st transfer function, either Tanh or ReLU:\n",
        "                    torch.nn.Tanh(),                            #torch.nn.ReLU(),\n",
        "                    torch.nn.Linear(hidden_units, 1), # H hidden units to 1 output neuron\n",
        "                    # no final tranfer function, i.e. \"linear output\"\n",
        "                    )\n",
        "    return model"
      ]
    },
    {
      "cell_type": "code",
      "execution_count": 101,
      "metadata": {},
      "outputs": [],
      "source": [
        "from sklearn.neural_network import MLPRegressor\n",
        "\n",
        "def ANN_inner(X_train_outer, X_test_outer, y_train_outer, y_test_outer,M):\n",
        "    \n",
        "    start = time.time()\n",
        "    # M = X_train.shape[1]\n",
        "    w = np.empty((M,param_grid['K_inner'],len(param_grid['hidden_units'])))\n",
        "    train_error = np.empty((param_grid['K_inner'],len(param_grid['hidden_units'])))\n",
        "    test_error = np.empty((param_grid['K_inner'],len(param_grid['hidden_units'])))\n",
        "    \n",
        "\n",
        "\n",
        "    inner_cv = KFold(n_splits=param_grid['K_inner'], shuffle=True)\n",
        "\n",
        "    for ik, (train_index, test_index) in enumerate(inner_cv.split(X_train_outer,y_train_outer)): \n",
        "        \n",
        "        # Extract training and test set for current CV fold, \n",
        "        # and convert them to PyTorch tensors\n",
        "        X_train_inner = X_train_outer[train_index,:] \n",
        "        y_train_inner = y_train_outer[train_index] \n",
        "        X_test_inner = X_train_outer[test_index,:] \n",
        "        y_test_inner = y_train_outer[test_index] \n",
        "        \n",
        "        mu = np.mean(X_train_inner[:, 1:], 0)\n",
        "        sigma = np.std(X_train_inner[:, 1:], 0)\n",
        "        \n",
        "        X_train_inner[:, 1:] = (X_train_inner[:, 1:] - mu) / sigma\n",
        "        X_test_inner[:, 1:] = (X_test_inner[:, 1:] - mu) / sigma\n",
        "        \n",
        "\n",
        "        for h in range(0,len(param_grid['hidden_units'])):\n",
        "\n",
        "            model = MLPRegressor(random_state=1, hidden_layer_sizes=(param_grid['hidden_units'][h],),max_iter=param_grid['max_iter']).fit(torch.Tensor(X_train_inner), torch.Tensor(y_train_inner))\n",
        "            y_test_est = model.predict(torch.Tensor(X_test_inner))\n",
        "\n",
        "            # # Determine errors and errors\n",
        "            se = (y_test_est-y_test_inner)**2 # squared error\n",
        "            mse = (sum(se)/len(y_test_inner)) #mean\n",
        "        \n",
        "            test_error[ik, h] = mse # store error rate for current CV fold \n",
        "            \n",
        "    \n",
        "    opt_hidden = param_grid['hidden_units'][np.argmin(np.mean(test_error,axis=0))]\n",
        "\n",
        "\n",
        "    model = MLPRegressor(hidden_layer_sizes=(opt_hidden,),max_iter=param_grid['max_iter']).fit(X_train_outer, y_train_outer)\n",
        "    y_test_outer_est = model.predict(torch.Tensor(X_test_outer))\n",
        "    # Determine errors for outer fold\n",
        "    Outer_mse = np.square(y_test_outer_est-y_test_outer).sum(axis=0)/y_test_outer.shape[0]\n",
        "    \n",
        "    print(opt_hidden, round(Outer_mse,4))\n",
        "    end = time.time()\n",
        "    return opt_hidden, round(Outer_mse,4), end-start"
      ]
    },
    {
      "cell_type": "code",
      "execution_count": null,
      "metadata": {},
      "outputs": [],
      "source": []
    },
    {
      "cell_type": "code",
      "execution_count": 85,
      "metadata": {},
      "outputs": [
        {
          "data": {
            "text/plain": [
              "array([0.18609137, 0.16663861, 0.1653743 , 0.16541124, 0.16500897,\n",
              "       0.16635907, 0.16580897, 0.1650699 , 0.16554491, 0.16597073,\n",
              "       0.16691603, 0.16546605, 0.16618335, 0.16608372, 0.16572754,\n",
              "       0.16506284, 0.16606899, 0.1677335 , 0.16713717, 0.16613149])"
            ]
          },
          "execution_count": 85,
          "metadata": {},
          "output_type": "execute_result"
        }
      ],
      "source": [
        "test_error[0]"
      ]
    },
    {
      "cell_type": "code",
      "execution_count": 108,
      "metadata": {},
      "outputs": [
        {
          "name": "stdout",
          "output_type": "stream",
          "text": [
            "\n",
            "Crossvalidation outer fold: 1/10\n",
            "0.49881278538812784\n",
            "100.0 0.1732\n",
            "15 0.1671\n",
            "\n",
            "Crossvalidation outer fold: 2/10\n",
            "0.4911415525114155\n",
            "100.0 0.1739\n",
            "15 0.1654\n",
            "\n",
            "Crossvalidation outer fold: 3/10\n",
            "0.5103196347031963\n",
            "100.0 0.1678\n",
            "15 0.1581\n",
            "\n",
            "Crossvalidation outer fold: 4/10\n",
            "0.4904109589041096\n",
            "100.0 0.1718\n",
            "15 0.1651\n",
            "\n",
            "Crossvalidation outer fold: 5/10\n",
            "0.5073972602739726\n",
            "100.0 0.169\n",
            "15 0.1615\n",
            "\n",
            "Crossvalidation outer fold: 6/10\n",
            "0.5108675799086758\n",
            "100.0 0.1731\n",
            "15 0.1666\n",
            "\n",
            "Crossvalidation outer fold: 7/10\n",
            "0.4925100474972598\n",
            "100.0 0.1726\n",
            "15 0.1629\n",
            "\n",
            "Crossvalidation outer fold: 8/10\n",
            "0.5010960906101571\n",
            "100.0 0.1729\n",
            "15 0.165\n",
            "\n",
            "Crossvalidation outer fold: 9/10\n",
            "0.5025575447570333\n",
            "100.0 0.1746\n",
            "15 0.1643\n",
            "\n",
            "Crossvalidation outer fold: 10/10\n",
            "0.4948849104859335\n",
            "100.0 0.1762\n",
            "15 0.1696\n",
            "[0.25   0.2499 0.2499 0.2499 0.2499 0.2499 0.2499 0.25   0.25   0.25  ]\n",
            "[100. 100. 100. 100. 100. 100. 100. 100. 100. 100.] [0.1732 0.1739 0.1678 0.1718 0.169  0.1731 0.1726 0.1729 0.1746 0.1762]\n"
          ]
        }
      ],
      "source": [
        "# Define the outer cross-validation splits\n",
        "outer_cv = KFold(n_splits=param_grid['K_outer'], shuffle=True)\n",
        "\n",
        "N, M = Data.shape\n",
        "\n",
        "# Create a list to store the results for each hyperparameter value\n",
        "results = []\n",
        "\n",
        "\n",
        "# Initialize variables\n",
        "#T = len(lambdas)\n",
        "Error_test_ann = np.empty((param_grid['K_outer'],1))\n",
        "Error_test_rlr = np.empty((param_grid['K_outer']))\n",
        "Error_test_nofeatures = np.empty((param_grid['K_outer']))\n",
        "opt_lambda_rlr = np.empty((param_grid['K_outer']))\n",
        "opt_hidden_ann = np.empty((param_grid['K_outer']))\n",
        "times =  np.empty((3))\n",
        "for ok, (train_outer_index, test_outer_index) in enumerate(outer_cv.split(Data,Label)):\n",
        "    print('\\nCrossvalidation outer fold: {0}/{1}'.format(ok+1,param_grid['K_outer']))\n",
        "\n",
        "\n",
        "    # extract training and test set for current CV fold\n",
        "    X_train_outer, X_test_outer = Data[train_outer_index,:], Data[test_outer_index,:]\n",
        "    y_train_outer, y_test_outer = Label[train_outer_index], Label[test_outer_index]\n",
        "\n",
        "\n",
        "    Error_test_nofeatures[ok], time_no = no_feature(y_train_outer, y_test_outer)\n",
        "    times[0] += time_no\n",
        "    opt_lambda_rlr[ok], Error_test_rlr[ok], time_rlr =  ridge_inner(X_train_outer, X_test_outer,y_train_outer, y_test_outer, M)\n",
        "    print(opt_lambda_rlr[ok], Error_test_rlr[ok])\n",
        "    times[1] += time_rlr\n",
        "\n",
        "    \n",
        "    opt_hidden_ann[ok], Error_test_ann[ok], time_ann = ANN_inner(X_train_outer, X_test_outer, y_train_outer,y_test_outer,M)\n",
        "    # Store the best hyperparameter value and its corresponding score (MSE) for this outer fold\n",
        "    times[2] += time_ann\n",
        "\n",
        "    # results.append(ridge_inner(X_train_outer, X_test_outer,y_train_outer, y_test_outer))\n",
        "\n",
        "print( Error_test_nofeatures)\n",
        "print(opt_lambda_rlr,Error_test_rlr)"
      ]
    },
    {
      "cell_type": "code",
      "execution_count": null,
      "metadata": {},
      "outputs": [
        {
          "name": "stdout",
          "output_type": "stream",
          "text": [
            "   n_hidden  err_ann   lambda  err_rlr  baseline\n",
            "0      15.0   0.1646    100.0   0.1745    0.2500\n",
            "1      15.0   0.1619    100.0   0.1704    0.2499\n",
            "2      15.0   0.1609    100.0   0.1696    0.2500\n",
            "3      15.0   0.1655    100.0   0.1737    0.2500\n",
            "4      15.0   0.1643    100.0   0.1732    0.2500\n",
            "5      15.0   0.1638    100.0   0.1696    0.2500\n",
            "6      15.0   0.1658    100.0   0.1728    0.2500\n",
            "7      15.0   0.1658    100.0   0.1762    0.2500\n",
            "8      15.0   0.1661    100.0   0.1741    0.2499\n",
            "9      15.0   0.1623    100.0   0.1708    0.2500\n"
          ]
        }
      ],
      "source": [
        "# Result saving\n",
        "rlr = np.vstack((opt_lambda_rlr,  Error_test_rlr))\n",
        "ann = np.vstack((opt_hidden_ann, Error_test_ann.squeeze()))\n",
        "results = pd.DataFrame(np.vstack((ann,rlr,Error_test_nofeatures)), index=['n_hidden', 'err_ann',' lambda', 'err_rlr', 'baseline' ])\n",
        "print(results.T)\n",
        "results.to_csv('part2.csv', index=True)\n"
      ]
    },
    {
      "cell_type": "code",
      "execution_count": 109,
      "metadata": {},
      "outputs": [
        {
          "data": {
            "text/plain": [
              "array([1.31750107e-03, 4.71957421e+00, 8.13573621e+02])"
            ]
          },
          "execution_count": 109,
          "metadata": {},
          "output_type": "execute_result"
        }
      ],
      "source": [
        "times"
      ]
    },
    {
      "cell_type": "code",
      "execution_count": null,
      "metadata": {},
      "outputs": [
        {
          "name": "stdout",
          "output_type": "stream",
          "text": [
            "0\n",
            "5\n",
            "10\n",
            "15\n",
            "20\n",
            "25\n",
            "30\n",
            "35\n",
            "40\n",
            "45\n",
            "50\n",
            "55\n",
            "60\n",
            "65\n",
            "70\n",
            "75\n",
            "80\n",
            "85\n",
            "90\n",
            "95\n",
            "20 0.165\n",
            "0.24999812347532382\n"
          ]
        }
      ],
      "source": [
        "# Define the hyperparameters grid to search\n",
        "param_grid = {\n",
        "    'hidden_units': list(range(0,100, 5)), # number of hidden units\n",
        "    'lambdas': [ 0.0001, 0.001, 0.01, 0.1, 1.0, 10.0, 100, 1000, 10000],\n",
        "    'loss_fn': torch.nn.MSELoss(),\n",
        "    'max_iter': 10000,\n",
        "    'n_replicates': 3, # number of networks trained in each k-fold\n",
        "    'K_inner' : 10,\n",
        "    'K_outer' : 10\n",
        "} \n",
        "\n",
        "test_error = np.empty((1,len(param_grid['hidden_units'])))\n",
        "# Extract training and test set for current CV fold, \n",
        "# extract training and test set\n",
        "X_train_inner, X_test_inner, y_train_inner, y_test_inner = train_test_split(Data,Label,test_size = 0.2)\n",
        "\n",
        "# Standardize the training and set set based on training set moments\n",
        "mu = np.mean(X_train_inner[:, 1:], 0)\n",
        "sigma = np.std(X_train_inner[:, 1:], 0)\n",
        "\n",
        "X_train_inner[:, 1:] = (X_train_inner[:, 1:] - mu) / sigma\n",
        "X_test_inner[:, 1:] = (X_test_inner[:, 1:] - mu) / sigma\n",
        "\n",
        "\n",
        "for h in range(0,len(param_grid['hidden_units'])):\n",
        "    print(param_grid['hidden_units'][h])\n",
        "    # Compute parameters for current value of hidden layer and current CV fold\n",
        "    if param_grid['hidden_units'][h] == 0 :\n",
        "            param_grid['hidden_units'][h] += 1\n",
        "    model = MLPRegressor(random_state=1, hidden_layer_sizes=(param_grid['hidden_units'][h],),max_iter=param_grid['max_iter']).fit(torch.Tensor(X_train_inner), torch.Tensor(y_train_inner))\n",
        "    y_test_est = model.predict(torch.Tensor(X_test_inner))\n",
        "    # Determine errors and errors\n",
        "    se = (y_test_est-y_test_inner)**2 # squared error\n",
        "    mse = (sum(se)/len(y_test_inner)) #mean\n",
        "    Error_test = np.square(y_test_est-y_test_inner).sum(axis=0)/y_test_inner.shape[0]\n",
        "    \n",
        "    test_error[0, h] = mse # store error rate for current CV fold \n",
        "opt_hidden = param_grid['hidden_units'][np.argmin(np.mean(test_error,axis=0))]\n",
        "model = MLPRegressor(random_state=1, hidden_layer_sizes=(opt_hidden,),max_iter=param_grid['max_iter']).fit(X_train_inner, y_train_inner)\n",
        "y_test_inner_est = model.predict(torch.Tensor(X_test_inner))\n",
        "\n",
        "Outer_mse = np.square(y_test_inner_est-y_test_inner).sum(axis=0)/y_test_inner.shape[0]\n",
        "print(opt_hidden,round(Outer_mse,4))\n",
        "print(np.square(y_test_inner-y_test_inner.mean()).sum(axis=0)/y_test_inner.shape[0])"
      ]
    },
    {
      "cell_type": "code",
      "execution_count": null,
      "metadata": {},
      "outputs": [
        {
          "data": {
            "image/png": "[encoded data removed]",
            "text/plain": [
              "<Figure size 1200x800 with 1 Axes>"
            ]
          },
          "metadata": {},
          "output_type": "display_data"
        }
      ],
      "source": [
        "from matplotlib.pylab import (figure, semilogx, loglog, xlabel, ylabel, legend,\n",
        "                           title, subplot, show, grid, plot)\n",
        "import numpy as np\n",
        "from scipy.io import loadmat\n",
        "import sklearn.linear_model as lm\n",
        "from sklearn import model_selection\n",
        "from sklearn.model_selection import train_test_split\n",
        "\n",
        "\n",
        "figure(figsize=(12,8))\n",
        "\n",
        "plot(param_grid['hidden_units'], np.mean(test_error,axis=0),'.-') # Don't plot the bias term\n",
        "xlabel('Number of Hidden Units',fontsize=15)\n",
        "ylabel('Mean Square Error',fontsize=15)\n",
        "grid()"
      ]
    },
    {
      "cell_type": "code",
      "execution_count": null,
      "metadata": {},
      "outputs": [
        {
          "name": "stdout",
          "output_type": "stream",
          "text": [
            "Confidence interval of model ANN  (0.16278440006468978, 0.16541559993531021) Confidence interval of model linear regression  (0.17086591399229692, 0.17411408600770303) Confidence interval of model no features  (0.2499498379044968, 0.2500101620955032)\n",
            "Confidnece interval of rlr vs base  (-0.07911268499727801, -0.07586731500272202)  p-value  2.5333386131334274e-15\n",
            "Confidnece interval of ann vs base  (-0.08719508119969094, -0.08456491880030906)  p-value  1.5169739413230234e-16\n",
            "[-0.0099 -0.0085 -0.0087 -0.0082 -0.0089 -0.0058 -0.007  -0.0104 -0.008\n",
            " -0.0085]\n",
            "Confidnece interval of rlr vs ann  (-0.009329665462009484, -0.007450334537990516)  p-value  8.323258158278991e-09\n"
          ]
        }
      ],
      "source": [
        "from matplotlib.pyplot import figure, plot, xlabel, ylabel, show\n",
        "import numpy as np\n",
        "from sklearn.neighbors import KNeighborsClassifier\n",
        "from sklearn import model_selection\n",
        "import sklearn.tree\n",
        "import scipy.stats\n",
        "import numpy as np, scipy.stats as st\n",
        "\n",
        "\n",
        "\n",
        "# perform statistical comparison of the models\n",
        "# compute z with squared error.\n",
        "zrlr = Error_test_rlr\n",
        "znofeature = Error_test_nofeatures\n",
        "zann = Error_test_ann.squeeze()\n",
        "# compute confidence interval of model A\n",
        "alpha = 0.05\n",
        "CIrlr = st.t.interval(1-alpha, df=len(zrlr)-1, loc=np.mean(zrlr), scale=st.sem(zrlr))  # Confidence interval\n",
        "CIno = st.t.interval(1-alpha, df=len(znofeature)-1, loc=np.mean(znofeature), scale=st.sem(znofeature))  # Confidence interval\n",
        "CIann = st.t.interval(1-alpha, df=len(zann)-1, loc=np.mean(zann), scale=st.sem(zann))  # Confidence interval\n",
        "\n",
        "# Compute confidence interval of z = zA-zB and p-value of Null hypothesis\n",
        "print(\"Confidence interval of model ANN \", CIann, \"Confidence interval of model linear regression \", CIrlr, \"Confidence interval of model no features \", CIno)\n",
        "\n",
        "z = zrlr - znofeature \n",
        "CI = st.t.interval(1-alpha, len(z)-1, loc=np.mean(z), scale=st.sem(z))  # Confidence interval\n",
        "p = 2*st.t.cdf( -np.abs( np.mean(z) )/st.sem(z), df=len(z)-1)  # p-value\n",
        "print(\"Confidnece interval of rlr vs base \", CI, ' p-value ', p)\n",
        "z = zann - znofeature\n",
        "CI = st.t.interval(1-alpha, len(z)-1, loc=np.mean(z), scale=st.sem(z))  # Confidence interval\n",
        "p = 2*st.t.cdf( -np.abs( np.mean(z) )/st.sem(z), df=len(z)-1)  # p-value\n",
        "print(\"Confidnece interval of ann vs base \", CI, ' p-value ', p)\n",
        "z = zann - zrlr\n",
        "print(z)\n",
        "CI = st.t.interval(1-alpha, len(z)-1, loc=np.mean(z), scale=st.sem(z))  # Confidence interval\n",
        "p = 2*st.t.cdf( -np.abs( np.mean(z) )/st.sem(z), df=len(z)-1)  # p-value\n",
        "print(\"Confidnece interval of rlr vs ann \", CI, ' p-value ', p)"
      ]
    }
  ],
  "metadata": {
    "colab": {
      "provenance": []
    },
    "kernelspec": {
      "display_name": "Python 3",
      "name": "python3"
    },
    "language_info": {
      "codemirror_mode": {
        "name": "ipython",
        "version": 3
      },
      "file_extension": ".py",
      "mimetype": "text/x-python",
      "name": "python",
      "nbconvert_exporter": "python",
      "pygments_lexer": "ipython3",
      "version": "3.11.4"
    }
  },
  "nbformat": 4,
  "nbformat_minor": 0
}
