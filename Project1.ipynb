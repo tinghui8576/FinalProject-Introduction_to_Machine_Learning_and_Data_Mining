{
  "cells": [
    {
      "cell_type": "code",
      "execution_count": 118,
      "metadata": {
        "id": "QQfEbH6EiGTu"
      },
      "outputs": [],
      "source": [
        "import numpy as np\n",
        "import pandas as pd\n",
        "import matplotlib.pyplot as plt\n",
        "from scipy.linalg import svd\n",
        "from sklearn.preprocessing import MinMaxScaler, LabelEncoder,  StandardScaler\n",
        "from matplotlib.pyplot import (figure, plot, title, xlabel, ylabel, \n",
        "                               colorbar, imshow, xticks, yticks, show)\n",
        "from sklearn import model_selection, tree\n",
        "from sklearn.neighbors import KNeighborsClassifier\n",
        "from sklearn.metrics import confusion_matrix, DistanceMetric\n",
        "import numpy as np"
      ]
    },
    {
      "cell_type": "markdown",
      "metadata": {
        "id": "l89XFFDBygRq"
      },
      "source": [
        "## Import file"
      ]
    },
    {
      "cell_type": "code",
      "execution_count": 119,
      "metadata": {
        "id": "pq9fI0lSPxT6"
      },
      "outputs": [],
      "source": [
        "# Load the heart csv data using the Pandas library\n",
        "filename = 'heart.csv'\n",
        "df = pd.read_csv(filename)\n"
      ]
    },
    {
      "cell_type": "code",
      "execution_count": 120,
      "metadata": {},
      "outputs": [
        {
          "name": "stdout",
          "output_type": "stream",
          "text": [
            "                 BMI  PhysicalHealth   MentalHealth      SleepTime\n",
            "count  319795.000000    319795.00000  319795.000000  319795.000000\n",
            "mean       28.325399         3.37171       3.898366       7.097075\n",
            "std         6.356100         7.95085       7.955235       1.436007\n",
            "min        12.020000         0.00000       0.000000       1.000000\n",
            "25%        24.030000         0.00000       0.000000       6.000000\n",
            "50%        27.340000         0.00000       0.000000       7.000000\n",
            "75%        31.420000         2.00000       3.000000       8.000000\n",
            "max        94.850000        30.00000      30.000000      24.000000\n"
          ]
        }
      ],
      "source": [
        "# Select columns 1 to 18\n",
        "selected_columns = df.iloc[:, 0:18]\n",
        "\n",
        "# Calculate basic summary statistics\n",
        "summary_statistics = selected_columns.describe()\n",
        "\n",
        "# Display the summary statistics\n",
        "print(summary_statistics)"
      ]
    },
    {
      "cell_type": "code",
      "execution_count": 121,
      "metadata": {},
      "outputs": [],
      "source": [
        "# drop the data set\n",
        "df = df.drop(df[(df.BMI > summary_statistics.BMI['mean']+2*summary_statistics.BMI['std'])\n",
        "            & (df.BMI < summary_statistics.BMI['mean']-2*summary_statistics.BMI['std'])\n",
        "            & (df.PhysicalHealth > summary_statistics.PhysicalHealth['mean']+2*summary_statistics.PhysicalHealth['std'])\n",
        "            & (df.PhysicalHealth < summary_statistics.PhysicalHealth['mean']-2*summary_statistics.PhysicalHealth['std'])\n",
        "            & (df.MentalHealth > summary_statistics.MentalHealth['mean']+2*summary_statistics.MentalHealth['std'])\n",
        "            & (df.MentalHealth < summary_statistics.MentalHealth['mean']-2*summary_statistics.MentalHealth['std'])\n",
        "            & (df.SleepTime > summary_statistics.SleepTime['mean']+2*summary_statistics.SleepTime['std'])\n",
        "            & (df.SleepTime < summary_statistics.SleepTime['mean']-2*summary_statistics.SleepTime['std'])].index)"
      ]
    },
    {
      "cell_type": "code",
      "execution_count": 122,
      "metadata": {},
      "outputs": [
        {
          "name": "stdout",
          "output_type": "stream",
          "text": [
            "54746\n"
          ]
        }
      ],
      "source": [
        "# Count the number of 'yes' and 'no' values in the 'label' column\n",
        "yes_count = df['HeartDisease'].value_counts()['Yes']\n",
        "no_count = df['HeartDisease'].value_counts()['No']\n",
        "\n",
        "\n",
        "# Determine the label to balance (either 'yes' or 'no')\n",
        "label_to_balance = 'Yes' if yes_count > no_count else 'No'\n",
        "label_to_keep = 'Yes' if yes_count <= no_count else 'No'\n",
        "\n",
        "# Calculate the difference in counts\n",
        "count_diff = yes_count \n",
        "\n",
        "# Get the columns where the label is equal to label_to_balance\n",
        "columns_to_balance = df[df['HeartDisease'] == label_to_balance]\n",
        "\n",
        "# Randomly sample rows to make the counts equal\n",
        "sampled_rows = columns_to_balance.sample(n=count_diff, random_state=42)\n",
        "\n",
        "# Concatenate the sampled rows with the rows where the label is equal to label_to_keep\n",
        "balance = pd.concat([df[df['HeartDisease'] == label_to_keep], sampled_rows])\n",
        "\n",
        "# Shuffle the rows to randomize the order\n",
        "balance = balance.sample(frac=1, random_state=42)\n",
        "\n",
        "df = balance \n",
        "\n",
        "\n",
        "print(len(df))"
      ]
    },
    {
      "cell_type": "code",
      "execution_count": 128,
      "metadata": {},
      "outputs": [],
      "source": [
        "# Transforme the discrete string into integer\n",
        "encoder = LabelEncoder()\n",
        "for col in df:\n",
        "  if col != \"BMI\":\n",
        "    df[col] = encoder.fit_transform(df[col])"
      ]
    },
    {
      "cell_type": "code",
      "execution_count": 129,
      "metadata": {},
      "outputs": [],
      "source": [
        "# Extract the data matrix, the class label and attribute names from the csv\n",
        "raw_data = df.values\n",
        "\n",
        "Data = raw_data[:,1:]\n",
        "Label = df.values [:,0]\n",
        "Attributes = np.asarray(df.columns[1:].str.slice(0, 3))"
      ]
    },
    {
      "cell_type": "code",
      "execution_count": 127,
      "metadata": {},
      "outputs": [
        {
          "name": "stdout",
          "output_type": "stream",
          "text": [
            "Yes    50.0\n",
            "No     50.0\n",
            "Name: HeartDisease, dtype: float64\n",
            "26.63    1.181822\n",
            "24.41    0.812845\n",
            "27.12    0.783619\n",
            "27.44    0.761699\n",
            "27.46    0.717861\n",
            "           ...   \n",
            "54.09    0.001827\n",
            "45.77    0.001827\n",
            "31.86    0.001827\n",
            "39.65    0.001827\n",
            "17.76    0.001827\n",
            "Name: BMI, Length: 2532, dtype: float64\n",
            "No     50.895043\n",
            "Yes    49.104957\n",
            "Name: Smoking, dtype: float64\n",
            "No     94.399591\n",
            "Yes     5.600409\n",
            "Name: AlcoholDrinking, dtype: float64\n",
            "No     90.676944\n",
            "Yes     9.323056\n",
            "Name: Stroke, dtype: float64\n",
            "0.0     62.747963\n",
            "30.0    10.998064\n",
            "2.0      4.531838\n",
            "3.0      2.814818\n",
            "5.0      2.796551\n",
            "1.0      2.760019\n",
            "15.0     2.380083\n",
            "10.0     2.321631\n",
            "20.0     1.590984\n",
            "4.0      1.585504\n",
            "7.0      1.505133\n",
            "14.0     1.030212\n",
            "25.0     0.615570\n",
            "6.0      0.493187\n",
            "8.0      0.345231\n",
            "12.0     0.279472\n",
            "21.0     0.253900\n",
            "28.0     0.244767\n",
            "29.0     0.135170\n",
            "9.0      0.107770\n",
            "18.0     0.076718\n",
            "27.0     0.060278\n",
            "16.0     0.060278\n",
            "17.0     0.060278\n",
            "13.0     0.038359\n",
            "24.0     0.036532\n",
            "22.0     0.032879\n",
            "26.0     0.027399\n",
            "23.0     0.025573\n",
            "11.0     0.025573\n",
            "19.0     0.018266\n",
            "Name: PhysicalHealth, dtype: float64\n",
            "0.0     65.339934\n",
            "30.0     6.703686\n",
            "2.0      4.480693\n",
            "5.0      3.803018\n",
            "10.0     3.220327\n",
            "15.0     3.218500\n",
            "3.0      2.875096\n",
            "1.0      2.648595\n",
            "20.0     1.689621\n",
            "7.0      1.483213\n",
            "4.0      1.474080\n",
            "25.0     0.666715\n",
            "14.0     0.575385\n",
            "6.0      0.463961\n",
            "8.0      0.297739\n",
            "12.0     0.221021\n",
            "28.0     0.166222\n",
            "29.0     0.122383\n",
            "21.0     0.116904\n",
            "18.0     0.069411\n",
            "9.0      0.067585\n",
            "17.0     0.047492\n",
            "16.0     0.042012\n",
            "27.0     0.040186\n",
            "11.0     0.034706\n",
            "22.0     0.032879\n",
            "13.0     0.032879\n",
            "24.0     0.025573\n",
            "23.0     0.018266\n",
            "26.0     0.016440\n",
            "19.0     0.005480\n",
            "Name: MentalHealth, dtype: float64\n",
            "No     75.897782\n",
            "Yes    24.102218\n",
            "Name: DiffWalking, dtype: float64\n",
            "Male      52.712527\n",
            "Female    47.287473\n",
            "Name: Sex, dtype: float64\n",
            "70-74          13.228364\n",
            "80 or older    13.096847\n",
            "65-69          12.762576\n",
            "60-64          11.365214\n",
            "75-79          10.351441\n",
            "55-59           8.870054\n",
            "50-54           6.707339\n",
            "45-49           4.926387\n",
            "40-44           4.363789\n",
            "35-39           4.018558\n",
            "18-24           3.746392\n",
            "30-34           3.530852\n",
            "25-29           3.032185\n",
            "Name: AgeCategory, dtype: float64\n",
            "White                             79.277025\n",
            "Hispanic                           7.065356\n",
            "Black                              6.727432\n",
            "Other                              3.348190\n",
            "Asian                              1.855843\n",
            "American Indian/Alaskan Native     1.726154\n",
            "Name: Race, dtype: float64\n",
            "No                         75.017353\n",
            "Yes                        21.906623\n",
            "No, borderline diabetes     2.451321\n",
            "Yes (during pregnancy)      0.624703\n",
            "Name: Diabetic, dtype: float64\n",
            "Yes    71.429876\n",
            "No     28.570124\n",
            "Name: PhysicalActivity, dtype: float64\n",
            "Good         31.900047\n",
            "Very good    28.542725\n",
            "Fair         17.504475\n",
            "Excellent    13.772696\n",
            "Poor          8.280057\n",
            "Name: GenHealth, dtype: float64\n",
            "8.0     30.564790\n",
            "7.0     27.253133\n",
            "6.0     20.397837\n",
            "5.0      6.563037\n",
            "9.0      5.476199\n",
            "4.0      3.318964\n",
            "10.0     3.269645\n",
            "12.0     1.081358\n",
            "3.0      0.920615\n",
            "2.0      0.325138\n",
            "1.0      0.193621\n",
            "11.0     0.188142\n",
            "14.0     0.122383\n",
            "16.0     0.087678\n",
            "15.0     0.058452\n",
            "18.0     0.051145\n",
            "13.0     0.047492\n",
            "20.0     0.042012\n",
            "24.0     0.018266\n",
            "17.0     0.012786\n",
            "22.0     0.005480\n",
            "19.0     0.001827\n",
            "Name: SleepTime, dtype: float64\n",
            "No     84.502977\n",
            "Yes    15.497023\n",
            "Name: Asthma, dtype: float64\n",
            "No     92.231396\n",
            "Yes     7.768604\n",
            "Name: KidneyDisease, dtype: float64\n",
            "No     86.605414\n",
            "Yes    13.394586\n",
            "Name: SkinCancer, dtype: float64\n"
          ]
        }
      ],
      "source": [
        "# Summary of Dataset in percentages\n",
        "percentage_results = {}\n",
        "\n",
        "# Loop Through Columns\n",
        "for column in df.columns:\n",
        "    percentages = df[column].value_counts(normalize=True) * 100\n",
        "    percentage_results[column] = percentages\n",
        "    print(percentages)\n"
      ]
    },
    {
      "cell_type": "code",
      "execution_count": 43,
      "metadata": {},
      "outputs": [],
      "source": [
        "# Assign each type of class with a number by making a Python dictionary\n",
        "# and extract the class vector y, convert to NumPy array\n",
        "classNames = np.unique(Label)\n",
        "classDict = dict(zip(classNames,range(len(classNames))))\n",
        "\n",
        "y = np.asarray([classDict[value] for value in Label])"
      ]
    },
    {
      "cell_type": "code",
      "execution_count": 130,
      "metadata": {},
      "outputs": [],
      "source": [
        "# Compute values of number of data(N), attributes(M) and classes(C).\n",
        "N = len(y)\n",
        "M = len(Attributes)\n",
        "C = len(classNames)"
      ]
    },
    {
      "cell_type": "code",
      "execution_count": 131,
      "metadata": {},
      "outputs": [
        {
          "name": "stdout",
          "output_type": "stream",
          "text": [
            "[[30.18  0.    0.   ...  0.    0.    0.  ]\n",
            " [32.55  1.    0.   ...  0.    0.    0.  ]\n",
            " [24.41  1.    0.   ...  0.    0.    1.  ]\n",
            " ...\n",
            " [26.19  1.    0.   ...  0.    0.    0.  ]\n",
            " [34.17  1.    0.   ...  0.    1.    0.  ]\n",
            " [32.11  1.    0.   ...  0.    0.    0.  ]]\n"
          ]
        }
      ],
      "source": [
        "X_train, X_test, y_train, y_test = model_selection.train_test_split(Data,Label,test_size=0.8)\n",
        "print(X_train)"
      ]
    },
    {
      "cell_type": "code",
      "execution_count": 132,
      "metadata": {},
      "outputs": [
        {
          "name": "stdout",
          "output_type": "stream",
          "text": [
            "[False False False ...  True False False]\n",
            "[ True  True  True ... False  True  True]\n"
          ]
        },
        {
          "data": {
            "image/png": "[encoded data removed]",
            "text/plain": [
              "<Figure size 640x480 with 1 Axes>"
            ]
          },
          "metadata": {},
          "output_type": "display_data"
        }
      ],
      "source": [
        "# Plot the training data points (color-coded) and test data points.\n",
        "figure(1)\n",
        "styles = ['.b', '.r', '.g', '.y']\n",
        "for c in range(C):\n",
        "    class_mask = (y_train==c)\n",
        "    print(class_mask)\n",
        "    plot(X_train[class_mask,0], X_train[class_mask,1], styles[c])\n"
      ]
    },
    {
      "cell_type": "code",
      "execution_count": 136,
      "metadata": {},
      "outputs": [
        {
          "data": {
            "image/png": "[encoded data removed]",
            "text/plain": [
              "<Figure size 640x480 with 1 Axes>"
            ]
          },
          "metadata": {},
          "output_type": "display_data"
        },
        {
          "data": {
            "image/png": "[encoded data removed]",
            "text/plain": [
              "<Figure size 640x480 with 2 Axes>"
            ]
          },
          "metadata": {},
          "output_type": "display_data"
        },
        {
          "name": "stdout",
          "output_type": "stream",
          "text": [
            "Ran Exercise 6.3.1\n"
          ]
        }
      ],
      "source": [
        "K=3\n",
        "\n",
        "\n",
        "\n",
        "# Distance metric (corresponds to 2nd norm, euclidean distance).\n",
        "# You can set dist=1 to obtain manhattan distance (cityblock distance).\n",
        "dist= 2\n",
        "#metric = 'minkowski'\n",
        "#metric_params = {} # no parameters needed for minkowski\n",
        "\n",
        "# You can set the metric argument to 'cosine' to determine the cosine distance\n",
        "metric = 'cosine' \n",
        "metric_params = {} # no parameters needed for cosine\n",
        "\n",
        "# To use a mahalonobis distance, we need to input the covariance matrix, too:\n",
        "#metric='mahalanobis'\n",
        "#metric_params={'V': cov(X_train, rowvar=False)}\n",
        "\n",
        "# Fit classifier and classify the test points\n",
        "knclassifier = KNeighborsClassifier(n_neighbors=K, p=dist, \n",
        "                                    metric=metric,\n",
        "                                    metric_params=metric_params)\n",
        "knclassifier.fit(X_train, y_train)\n",
        "y_est = knclassifier.predict(X_test)\n",
        "\n",
        "\n",
        "# Plot the classfication results\n",
        "styles = ['ob', 'or', 'og', 'oy']\n",
        "for c in range(C):\n",
        "    class_mask = (y_est==c)\n",
        "    plot(X_test[class_mask,0], X_test[class_mask,1], styles[c], markersize=10)\n",
        "    plot(X_test[class_mask,0], X_test[class_mask,1], 'kx', markersize=8)\n",
        "title('Synthetic data classification - KNN');\n",
        "\n",
        "# Compute and plot confusion matrix\n",
        "cm = confusion_matrix(y_test, y_est);\n",
        "accuracy = 100*cm.diagonal().sum()/cm.sum(); error_rate = 100-accuracy;\n",
        "figure(2);\n",
        "imshow(cm, cmap='binary', interpolation='None');\n",
        "colorbar()\n",
        "xticks(range(C)); yticks(range(C));\n",
        "xlabel('Predicted class'); ylabel('Actual class');\n",
        "title('Confusion matrix (Accuracy: {0}%, Error Rate: {1}%)'.format(accuracy, error_rate));\n",
        "\n",
        "show()\n",
        "\n",
        "print('Ran Exercise 6.3.1')"
      ]
    }
  ],
  "metadata": {
    "colab": {
      "provenance": []
    },
    "kernelspec": {
      "display_name": "Python 3",
      "name": "python3"
    },
    "language_info": {
      "codemirror_mode": {
        "name": "ipython",
        "version": 3
      },
      "file_extension": ".py",
      "mimetype": "text/x-python",
      "name": "python",
      "nbconvert_exporter": "python",
      "pygments_lexer": "ipython3",
      "version": "3.11.4"
    }
  },
  "nbformat": 4,
  "nbformat_minor": 0
}
